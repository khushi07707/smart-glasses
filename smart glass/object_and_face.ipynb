{
 "cells": [
  {
   "cell_type": "code",
   "execution_count": 1,
   "id": "ab749408",
   "metadata": {},
   "outputs": [
    {
     "name": "stderr",
     "output_type": "stream",
     "text": [
      "WARNING: All log messages before absl::InitializeLog() is called are written to STDERR\n",
      "I0000 00:00:1753468986.157419 15992634 gl_context.cc:369] GL version: 2.1 (2.1 Metal - 89.4), renderer: Apple M1\n",
      "INFO: Created TensorFlow Lite XNNPACK delegate for CPU.\n",
      "W0000 00:00:1753468986.173675 15993018 inference_feedback_manager.cc:114] Feedback manager requires a model with a single signature inference. Disabling support for feedback tensors.\n",
      "W0000 00:00:1753468986.179837 15993018 inference_feedback_manager.cc:114] Feedback manager requires a model with a single signature inference. Disabling support for feedback tensors.\n",
      "W0000 00:00:1753468986.365168 15993012 landmark_projection_calculator.cc:186] Using NORM_RECT without IMAGE_DIMENSIONS is only supported for the square ROI. Provide IMAGE_DIMENSIONS or use PROJECTION_MATRIX.\n"
     ]
    },
    {
     "ename": "KeyboardInterrupt",
     "evalue": "",
     "output_type": "error",
     "traceback": [
      "\u001b[0;31m---------------------------------------------------------------------------\u001b[0m",
      "\u001b[0;31mKeyboardInterrupt\u001b[0m                         Traceback (most recent call last)",
      "Cell \u001b[0;32mIn[1], line 39\u001b[0m\n\u001b[1;32m     36\u001b[0m net\u001b[38;5;241m.\u001b[39msetInputSwapRB(\u001b[38;5;28;01mTrue\u001b[39;00m)\n\u001b[1;32m     38\u001b[0m \u001b[38;5;28;01mwhile\u001b[39;00m \u001b[38;5;28;01mTrue\u001b[39;00m:\n\u001b[0;32m---> 39\u001b[0m     success, img \u001b[38;5;241m=\u001b[39m \u001b[43mcap\u001b[49m\u001b[38;5;241;43m.\u001b[39;49m\u001b[43mread\u001b[49m\u001b[43m(\u001b[49m\u001b[43m)\u001b[49m\n\u001b[1;32m     40\u001b[0m     \u001b[38;5;28;01mif\u001b[39;00m \u001b[38;5;129;01mnot\u001b[39;00m success:\n\u001b[1;32m     41\u001b[0m         \u001b[38;5;28;01mbreak\u001b[39;00m\n",
      "\u001b[0;31mKeyboardInterrupt\u001b[0m: "
     ]
    }
   ],
   "source": [
    "import cv2\n",
    "import cvzone\n",
    "from cvzone.FaceMeshModule import FaceMeshDetector\n",
    "\n",
    "thres = 0.5\n",
    "\n",
    "def calculate_object_distance(box):\n",
    "    focal_length = 1000\n",
    "    known_object_width = 10\n",
    "    x, y, w, h = box\n",
    "    distance = (known_object_width * focal_length) / w\n",
    "    return distance\n",
    "\n",
    "def calculate_face_distance(pointLeft, pointRight):\n",
    "    w, _ = detector.findDistance(pointLeft, pointRight)\n",
    "    W = 6.3\n",
    "    f = 840\n",
    "    distance = (W * f) / w\n",
    "    return distance\n",
    "\n",
    "cap = cv2.VideoCapture(0)\n",
    "cap.set(3, 640)\n",
    "cap.set(4, 480)\n",
    "\n",
    "detector = FaceMeshDetector(maxFaces=10)\n",
    "\n",
    "classNames = []\n",
    "\n",
    "config_file = 'ssd_mobilenet_v3_large_coco_2020_01_14.pbtxt'\n",
    "weightsPath = 'frozen_inference_graph.pb'\n",
    "\n",
    "net = cv2.dnn_DetectionModel(weightsPath, config_file)\n",
    "net.setInputSize(320, 320)\n",
    "net.setInputScale(1.0 / 127.5)\n",
    "net.setInputMean((127.5, 127.5, 127.5))\n",
    "net.setInputSwapRB(True)\n",
    "\n",
    "while True:\n",
    "    success, img = cap.read()\n",
    "    if not success:\n",
    "        break\n",
    "\n",
    "    classIds, confs, bbox = net.detect(img, confThreshold=thres)\n",
    "    if len(classIds) != 0:\n",
    "        for classId, confidence, box in zip(classIds.flatten(), confs.flatten(), bbox):\n",
    "            distance = calculate_object_distance(box)\n",
    "            color = (0, 0, 255) if distance < 25 else (0, 255, 0)\n",
    "            cv2.rectangle(img, (box[0], box[1]), (box[0] + box[2], box[1] + box[3]), color, thickness=2)\n",
    "            cv2.putText(img, f'Obj Dist: {distance:.1f} cm', (box[0], box[1] - 10),\n",
    "                        cv2.FONT_HERSHEY_SIMPLEX, 0.5, color, 2)\n",
    "\n",
    "    img, faces = detector.findFaceMesh(img)\n",
    "    for face in faces:\n",
    "        pointLeft = face[145]\n",
    "        pointRight = face[374]\n",
    "        cv2.line(img, pointLeft, pointRight, (0, 200, 0), 3)\n",
    "        cv2.circle(img, pointLeft, 5, (255, 0, 255), cv2.FILLED)\n",
    "        cv2.circle(img, pointRight, 5, (255, 0, 255), cv2.FILLED)\n",
    "        face_distance = calculate_face_distance(pointLeft, pointRight)\n",
    "        cvzone.putTextRect(img, f'Face Dist: {int(face_distance)} cm',\n",
    "                           (face[10][0] - 75, face[10][1] - 50), scale=2)\n",
    "\n",
    "    cv2.imshow(\"Combined Output\", img)\n",
    "    if cv2.waitKey(1) == 27:\n",
    "        break\n",
    "\n",
    "cap.release()\n",
    "cv2.destroyAllWindows()\n"
   ]
  },
  {
   "cell_type": "code",
   "execution_count": 5,
   "metadata": {},
   "outputs": [
    {
     "name": "stdout",
     "output_type": "stream",
     "text": [
      "Defaulting to user installation because normal site-packages is not writeable\n",
      "Collecting mediapipe\n",
      "  Using cached mediapipe-0.10.21-cp39-cp39-macosx_11_0_universal2.whl.metadata (9.9 kB)\n",
      "Requirement already satisfied: absl-py in /Users/khushidangwal/Library/Python/3.9/lib/python/site-packages (from mediapipe) (2.3.1)\n",
      "Requirement already satisfied: attrs>=19.1.0 in /Users/khushidangwal/Library/Python/3.9/lib/python/site-packages (from mediapipe) (25.3.0)\n",
      "Requirement already satisfied: flatbuffers>=2.0 in /Users/khushidangwal/Library/Python/3.9/lib/python/site-packages (from mediapipe) (25.2.10)\n",
      "Requirement already satisfied: jax in /Users/khushidangwal/Library/Python/3.9/lib/python/site-packages (from mediapipe) (0.4.30)\n",
      "Requirement already satisfied: jaxlib in /Users/khushidangwal/Library/Python/3.9/lib/python/site-packages (from mediapipe) (0.4.30)\n",
      "Requirement already satisfied: matplotlib in /Users/khushidangwal/Library/Python/3.9/lib/python/site-packages (from mediapipe) (3.8.4)\n",
      "Requirement already satisfied: numpy<2 in /Users/khushidangwal/Library/Python/3.9/lib/python/site-packages (from mediapipe) (1.26.4)\n",
      "Requirement already satisfied: opencv-contrib-python in /Users/khushidangwal/Library/Python/3.9/lib/python/site-packages (from mediapipe) (4.11.0.86)\n",
      "Requirement already satisfied: protobuf<5,>=4.25.3 in /Users/khushidangwal/Library/Python/3.9/lib/python/site-packages (from mediapipe) (4.25.8)\n",
      "Requirement already satisfied: sounddevice>=0.4.4 in /Users/khushidangwal/Library/Python/3.9/lib/python/site-packages (from mediapipe) (0.5.2)\n",
      "Requirement already satisfied: sentencepiece in /Users/khushidangwal/Library/Python/3.9/lib/python/site-packages (from mediapipe) (0.2.0)\n",
      "Requirement already satisfied: CFFI>=1.0 in /Users/khushidangwal/Library/Python/3.9/lib/python/site-packages (from sounddevice>=0.4.4->mediapipe) (1.17.1)\n",
      "Requirement already satisfied: pycparser in /Users/khushidangwal/Library/Python/3.9/lib/python/site-packages (from CFFI>=1.0->sounddevice>=0.4.4->mediapipe) (2.22)\n",
      "Requirement already satisfied: ml-dtypes>=0.2.0 in /Users/khushidangwal/Library/Python/3.9/lib/python/site-packages (from jax->mediapipe) (0.5.1)\n",
      "Requirement already satisfied: opt-einsum in /Users/khushidangwal/Library/Python/3.9/lib/python/site-packages (from jax->mediapipe) (3.4.0)\n",
      "Requirement already satisfied: scipy>=1.9 in /Users/khushidangwal/Library/Python/3.9/lib/python/site-packages (from jax->mediapipe) (1.13.1)\n",
      "Requirement already satisfied: importlib-metadata>=4.6 in /Users/khushidangwal/Library/Python/3.9/lib/python/site-packages (from jax->mediapipe) (8.7.0)\n",
      "Requirement already satisfied: zipp>=3.20 in /Users/khushidangwal/Library/Python/3.9/lib/python/site-packages (from importlib-metadata>=4.6->jax->mediapipe) (3.23.0)\n",
      "Requirement already satisfied: contourpy>=1.0.1 in /Users/khushidangwal/Library/Python/3.9/lib/python/site-packages (from matplotlib->mediapipe) (1.2.1)\n",
      "Requirement already satisfied: cycler>=0.10 in /Users/khushidangwal/Library/Python/3.9/lib/python/site-packages (from matplotlib->mediapipe) (0.12.1)\n",
      "Requirement already satisfied: fonttools>=4.22.0 in /Users/khushidangwal/Library/Python/3.9/lib/python/site-packages (from matplotlib->mediapipe) (4.51.0)\n",
      "Requirement already satisfied: kiwisolver>=1.3.1 in /Users/khushidangwal/Library/Python/3.9/lib/python/site-packages (from matplotlib->mediapipe) (1.4.5)\n",
      "Requirement already satisfied: packaging>=20.0 in /Users/khushidangwal/Library/Python/3.9/lib/python/site-packages (from matplotlib->mediapipe) (24.0)\n",
      "Requirement already satisfied: pillow>=8 in /Users/khushidangwal/Library/Python/3.9/lib/python/site-packages (from matplotlib->mediapipe) (10.3.0)\n",
      "Requirement already satisfied: pyparsing>=2.3.1 in /Users/khushidangwal/Library/Python/3.9/lib/python/site-packages (from matplotlib->mediapipe) (3.1.2)\n",
      "Requirement already satisfied: python-dateutil>=2.7 in /Users/khushidangwal/Library/Python/3.9/lib/python/site-packages (from matplotlib->mediapipe) (2.9.0.post0)\n",
      "Requirement already satisfied: importlib-resources>=3.2.0 in /Users/khushidangwal/Library/Python/3.9/lib/python/site-packages (from matplotlib->mediapipe) (6.4.0)\n",
      "Requirement already satisfied: six>=1.5 in /Applications/Xcode.app/Contents/Developer/Library/Frameworks/Python3.framework/Versions/3.9/lib/python3.9/site-packages (from python-dateutil>=2.7->matplotlib->mediapipe) (1.15.0)\n",
      "Using cached mediapipe-0.10.21-cp39-cp39-macosx_11_0_universal2.whl (49.2 MB)\n",
      "Installing collected packages: mediapipe\n",
      "Successfully installed mediapipe-0.10.21\n"
     ]
    }
   ],
   "source": [
    "!pip install mediapipe"
   ]
  },
  {
   "cell_type": "code",
   "execution_count": 7,
   "id": "4192549f",
   "metadata": {},
   "outputs": [
    {
     "name": "stdout",
     "output_type": "stream",
     "text": [
      "Defaulting to user installation because normal site-packages is not writeable\n",
      "Collecting numpy==1.24.3\n",
      "  Downloading numpy-1.24.3-cp39-cp39-macosx_11_0_arm64.whl.metadata (5.6 kB)\n",
      "Downloading numpy-1.24.3-cp39-cp39-macosx_11_0_arm64.whl (13.9 MB)\n",
      "\u001b[2K   \u001b[90m━━━━━━━━━━━━━━━━━━━━━━━━━━━━━━━━━━━━━━━━\u001b[0m \u001b[32m13.9/13.9 MB\u001b[0m \u001b[31m948.1 kB/s\u001b[0m eta \u001b[36m0:00:00\u001b[0m00:01\u001b[0m00:01\u001b[0m\n",
      "\u001b[?25hInstalling collected packages: numpy\n",
      "  Attempting uninstall: numpy\n",
      "    Found existing installation: numpy 1.26.4\n",
      "    Uninstalling numpy-1.26.4:\n",
      "      Successfully uninstalled numpy-1.26.4\n",
      "\u001b[31mERROR: pip's dependency resolver does not currently take into account all the packages that are installed. This behaviour is the source of the following dependency conflicts.\n",
      "opencv-python 4.12.0.88 requires numpy<2.3.0,>=2; python_version >= \"3.9\", but you have numpy 1.24.3 which is incompatible.\u001b[0m\u001b[31m\n",
      "\u001b[0mSuccessfully installed numpy-1.24.3\n"
     ]
    }
   ],
   "source": [
    "!pip install numpy==1.24.3\n"
   ]
  },
  {
   "cell_type": "code",
   "execution_count": null,
   "id": "fa50aa8b",
   "metadata": {},
   "outputs": [],
   "source": []
  }
 ],
 "metadata": {
  "kernelspec": {
   "display_name": "Python 3",
   "language": "python",
   "name": "python3"
  },
  "language_info": {
   "codemirror_mode": {
    "name": "ipython",
    "version": 3
   },
   "file_extension": ".py",
   "mimetype": "text/x-python",
   "name": "python",
   "nbconvert_exporter": "python",
   "pygments_lexer": "ipython3",
   "version": "3.9.6"
  }
 },
 "nbformat": 4,
 "nbformat_minor": 5
}
